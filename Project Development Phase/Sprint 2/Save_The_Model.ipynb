{
  "nbformat": 4,
  "nbformat_minor": 0,
  "metadata": {
    "colab": {
      "provenance": []
    },
    "kernelspec": {
      "name": "python3",
      "display_name": "Python 3"
    },
    "language_info": {
      "name": "python"
    }
  },
  "cells": [
    {
      "cell_type": "markdown",
      "source": [
        "       AI-Powered Nutrition Analyzer For Fitness Enthusiasts\n",
        "\n",
        "Introduction:\n",
        "   Food is essential for human life and has been the concern of many healthcare conventions. Nowadays new dietary assessment and nutrition analysis tools enable more opportunities to help people understand their daily eating habits, exploring nutrition patterns and maintain a healthy diet. Nutritional analysis is the process of determining the nutritional content of food. It is a vital part of analytical chemistry that provides information about the chemical composition, processing, quality control and contamination of food."
      ],
      "metadata": {
        "id": "5joVm6atQxFL"
      }
    },
    {
      "cell_type": "code",
      "source": [
        "#importing the model building libraries\n",
        "import numpy as np\n",
        "import tensorflow\n",
        "from tensorflow.keras.models import Sequential\n",
        "from tensorflow.keras import layers\n",
        "from tensorflow.keras.layers import Dense,Flatten\n",
        "from tensorflow.keras.layers import Conv2D,MaxPooling2D,Dropout"
      ],
      "metadata": {
        "id": "XULg6_XiQ7-P"
      },
      "execution_count": null,
      "outputs": []
    },
    {
      "cell_type": "code",
      "source": [
        "#initialize the model\n",
        "model=Sequential()"
      ],
      "metadata": {
        "id": "wXlIcKexRUPG"
      },
      "execution_count": null,
      "outputs": []
    },
    {
      "cell_type": "code",
      "source": [
        "from google.colab import drive\n",
        "drive.mount('/content/drive')"
      ],
      "metadata": {
        "id": "Iwjk-hRcRYsG"
      },
      "execution_count": null,
      "outputs": []
    },
    {
      "cell_type": "code",
      "source": [
        "#image data augmentation\n",
        "train_datagen = ImageDataGenerator(rescale=1./255,shear_range=0.2,zoom_range=0.2,horizontal_flip=True)\n",
        "test_datagen = ImageDataGenerator(rescale=1./255)"
      ],
      "metadata": {
        "id": "UmHr4JstRduj"
      },
      "execution_count": null,
      "outputs": []
    },
    {
      "cell_type": "code",
      "source": [
        "#performing data augmentation to test the data\n",
        "x_train=train_datagen.flow_from_directory(r'/content/drive/MyDrive/TRAIN_SET',target_size=(64,64),batch_size=5,color_mode='rgb',class_mode='sparse')"
      ],
      "metadata": {
        "id": "30cYoB_DRiBD"
      },
      "execution_count": null,
      "outputs": []
    },
    {
      "cell_type": "code",
      "source": [
        "#summary of model\n",
        "classifier.summary()"
      ],
      "metadata": {
        "id": "c4vnulGwRudU"
      },
      "execution_count": null,
      "outputs": []
    },
    {
      "cell_type": "code",
      "source": [
        "x_test=test_datagen.flow_from_directory(r\"/content/drive/MyDrive/TEST_SET\",target_size=(64,64),batch_size=5,color_mode='rgb',class_mode='sparse')"
      ],
      "metadata": {
        "id": "9MZBXLGLRuX6"
      },
      "execution_count": null,
      "outputs": []
    },
    {
      "cell_type": "code",
      "source": [
        "#training model\n",
        "\n",
        "classifier.fit_generator(generator=x_train,steps_per_epoch = len(x_train),epochs=20,validation_data=x_test,validation_steps = len(x_test))"
      ],
      "metadata": {
        "id": "PzQGLRbJbZCP"
      },
      "execution_count": null,
      "outputs": []
    },
    {
      "cell_type": "code",
      "source": [
        "#check no of classes\n",
        "print(x_train.class_indices)"
      ],
      "metadata": {
        "id": "SUS0wZxKbgVh"
      },
      "execution_count": null,
      "outputs": []
    },
    {
      "cell_type": "code",
      "source": [
        "classifier = Sequential()"
      ],
      "metadata": {
        "id": "9cr2k3-zbkDG"
      },
      "execution_count": null,
      "outputs": []
    },
    {
      "cell_type": "code",
      "source": [
        "#save the model\n",
        "classifier.save('nutrition.h5')"
      ],
      "metadata": {
        "id": "_utWGXx0bpR4"
      },
      "execution_count": null,
      "outputs": []
    },
    {
      "cell_type": "code",
      "source": [
        "#adding CNN layers\n",
        "classifier.add(Conv2D(32, (3, 3), input_shape=(64,64,3),activation='relu'))\n",
        "classifier.add(MaxPooling2D(pool_size=(2,2)))\n",
        "classifier.add(Conv2D(32, (3,3),activation='relu'))\n",
        "classifier.add(MaxPooling2D(pool_size=(2,2)))\n",
        "classifier.add(Flatten())"
      ],
      "metadata": {
        "id": "D9OYJuP2bs8p"
      },
      "execution_count": null,
      "outputs": []
    },
    {
      "cell_type": "code",
      "source": [
        "#summary of model\n",
        "classifier.summary()"
      ],
      "metadata": {
        "id": "2vv7d9uDbxUe"
      },
      "execution_count": null,
      "outputs": []
    },
    {
      "cell_type": "code",
      "source": [
        "#add dense layers\n",
        "classifier.add(Dense(units=128, activation='relu'))\n",
        "classifier.add(Dense(units=5,activation='softmax'))"
      ],
      "metadata": {
        "id": "AduxjrjqcAPy"
      },
      "execution_count": null,
      "outputs": []
    },
    {
      "cell_type": "code",
      "source": [
        "#compile model\n",
        "classifier.compile(optimizer='adam',loss='sparse_categorical_crossentropy', metrics=['accuracy'])"
      ],
      "metadata": {
        "id": "ifzTUVqncBVb"
      },
      "execution_count": null,
      "outputs": []
    }
  ]
}