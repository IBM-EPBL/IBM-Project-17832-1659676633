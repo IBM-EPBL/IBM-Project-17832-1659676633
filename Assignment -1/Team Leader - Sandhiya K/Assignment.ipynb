Basic Python
1. Split this string
[1]
s = "Hi there Sam!" 
[2]
1s
x = s.split()
print(x)
['Hi', 'there', 'Sam!']
2. Use .format() to print the following string.
Output should be: The diameter of Earth is 12742 kilometers.
[3]
planet = "Earth"
diameter = 12742
[4]
0s
f"The diameter of {planet} is {diameter} kilometers"

3. In this nest dictionary grab the word "hello"
[5]
d = {'k1':[1,2,3,{'tricky':['oh','man','inception',{'target':[1,2,3,'hello']}]}]}
[6]
0s
print(d['k1'][3]["tricky"][3]['target'][3])
hello
Numpy
[7]
import numpy as np
4.1 Create an array of 10 zeros?
4.2 Create an array of 10 fives?
[8]
0s
array=np.zeros(10)
print("An array of 10 zeros:")
print(array)
An array of 10 zeros:
[0. 0. 0. 0. 0. 0. 0. 0. 0. 0.]
[9]
0s
array=np.ones(10)*5
print("An array of 10 fives:")
print(array)
An array of 10 fives:
[5. 5. 5. 5. 5. 5. 5. 5. 5. 5.]
5. Create an array of all the even integers from 20 to 35
[ ]
array=np.arange(20,35,2)
print("Array of all the even integers from 20 to 35")
print(array)
Array of all the even integers from 20 to 35
[20 22 24 26 28 30 32 34]
6. Create a 3x3 matrix with values ranging from 0 to 8
[ ]
x =  np.arange(0, 9).reshape(3,3)
print(x)
[[0 1 2]
 [3 4 5]
 [6 7 8]]
7. Concatenate a and b
a = np.array([1, 2, 3]), b = np.array([4, 5, 6])
[ ]
a = np.array([1, 2, 3])
b = np.array([4, 5, 6])
np.concatenate((a, b), axis=None)
array([1, 2, 3, 4, 5, 6])
Pandas
8. Create a dataframe with 3 rows and 2 columns
[ ]
import pandas as pd

[ ]
data = [10,20,30]
df = pd.DataFrame(data, columns=[' '])
df

9. Generate the series of dates from 1st Jan, 2023 to 10th Feb, 2023
[ ]
pd.date_range(start='1/1/2023', end='10/02/2023')
DatetimeIndex(['2023-01-01', '2023-01-02', '2023-01-03', '2023-01-04',
               '2023-01-05', '2023-01-06', '2023-01-07', '2023-01-08',
               '2023-01-09', '2023-01-10',
               ...
               '2023-09-23', '2023-09-24', '2023-09-25', '2023-09-26',
               '2023-09-27', '2023-09-28', '2023-09-29', '2023-09-30',
               '2023-10-01', '2023-10-02'],
              dtype='datetime64[ns]', length=275, freq='D')
10. Create 2D list to DataFrame
lists = [[1, 'aaa', 22], [2, 'bbb', 25], [3, 'ccc', 24]]

[ ]
lists = [[1, 'aaa', 22], [2, 'bbb', 25], [3, 'ccc', 24]]
[ ]
df = pd.DataFrame(lists, columns =['Rollno', 'name','mark']) 
print(df )
   Rollno name  mark
0       1  aaa    22
1       2  bbb    25
2       3  ccc    24
